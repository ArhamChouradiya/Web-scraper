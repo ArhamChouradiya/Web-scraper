{
 "metadata": {
  "language_info": {
   "codemirror_mode": {
    "name": "ipython",
    "version": 3
   },
   "file_extension": ".py",
   "mimetype": "text/x-python",
   "name": "python",
   "nbconvert_exporter": "python",
   "pygments_lexer": "ipython3",
   "version": "3.7.6"
  },
  "orig_nbformat": 2,
  "kernelspec": {
   "name": "python376jvsc74a57bd0748c7eb562bf4f003bbe37f812326e6f0fc36c5437516d0f27fbbd1e443d79b3",
   "display_name": "Python 3.7.6 64-bit ('anaconda3': virtualenv)"
  }
 },
 "nbformat": 4,
 "nbformat_minor": 2,
 "cells": [
  {
   "cell_type": "code",
   "execution_count": 35,
   "metadata": {},
   "outputs": [],
   "source": [
    "# Import libraries\n",
    "import pandas as pd\n",
    "import requests\n",
    "from bs4 import BeautifulSoup"
   ]
  },
  {
   "cell_type": "code",
   "execution_count": 40,
   "metadata": {
    "tags": []
   },
   "outputs": [],
   "source": [
    "all_quotes = []\n",
    "page_no = 1\n",
    "while True:\n",
    "    # Access HTML content of the web page\n",
    "    website = 'https://quotes.toscrape.com/page/'+str(page_no)+'/'\n",
    "    html_content = requests.get(website).content\n",
    "    soup = BeautifulSoup(html_content)\n",
    "    \n",
    "    # Store link to next page\n",
    "    next_page = soup.find_all('li', class_='next')\n",
    "    \n",
    "    # Store contents of class='quote'\n",
    "    quotes = soup.find_all('div',class_='quote')\n",
    "    \n",
    "    # Iterate through each quote\n",
    "    for quote in quotes:\n",
    "        \n",
    "        # Store text, author and tags\n",
    "        text = quote.find('span',class_='text').text\n",
    "        author = quote.find('small',class_='author').text\n",
    "        tags = quote.find('div',class_='tags').find_all('a')\n",
    "        all_tags = []\n",
    "        for tag in tags:\n",
    "            all_tags.append(tag.text)\n",
    "        \n",
    "        # Create a list\n",
    "        single_quote = [author, text, all_tags]\n",
    "        \n",
    "        # Append list to all_quotes\n",
    "        all_quotes.append(single_quote)\n",
    "    \n",
    "    # Check if next page is present or not\n",
    "    if not next_page:\n",
    "        break\n",
    "    \n",
    "    # Increment page number\n",
    "    page_no += 1\n"
   ]
  },
  {
   "cell_type": "code",
   "execution_count": 41,
   "metadata": {},
   "outputs": [],
   "source": [
    "# Store data in excel file\n",
    "df = pd.DataFrame(all_quotes, columns=['Name', 'Quote', 'Tags'])\n",
    "df.to_excel('Quotes.xlsx', index=False)"
   ]
  }
 ]
}